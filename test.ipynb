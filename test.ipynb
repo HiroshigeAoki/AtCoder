{
 "cells": [
  {
   "cell_type": "code",
   "execution_count": 1,
   "metadata": {},
   "outputs": [
    {
     "name": "stdout",
     "output_type": "stream",
     "text": [
      "itertools: 7.07999999960407e-07\n",
      "for loop: 1.0000000000065512e-05\n",
      "rec: 2.079200000015824e-05\n",
      "loop: 0.0003879589999999933\n"
     ]
    }
   ],
   "source": [
    "from itertools import combinations\n",
    "import os, sys\n",
    "sys.path.append(os.curdir)\n",
    "from utils.elapsed_time import elapsedTime\n",
    "from lib.recursive_itertools import combinationListRecursive\n",
    "from lib.loop_itertools import combinationWithRepetitionList\n",
    "\n",
    "\n",
    "def main():\n",
    "    et = elapsedTime('itertools', combinations)\n",
    "    et(A, 5)\n",
    "\n",
    "    et = elapsedTime('for loop')\n",
    "    et.start()\n",
    "    for a in range(N):\n",
    "        for b in range(a):\n",
    "            for c in range(b):\n",
    "                for d in range(c):\n",
    "                    for e in range(d):\n",
    "                        # sum = A[a] + A[b] + A[c] + A[d] + A[e]\n",
    "                        prod = A[a] * A[b] * A[c] * A[d] * A[e]\n",
    "    et.end()\n",
    "    \n",
    "    et = elapsedTime('rec', combinationListRecursive)\n",
    "    et(A, 5)\n",
    "\n",
    "    et = elapsedTime('loop', combinationWithRepetitionList)\n",
    "    et(A, 5)\n",
    "\n",
    "if __name__ == \"__main__\":\n",
    "    N, P, Q = map(int, '6 7 1'.split())\n",
    "    A = list(map(int, '1 2 3 4 5 6'.split()))\n",
    "    main()"
   ]
  },
  {
   "cell_type": "code",
   "execution_count": 4,
   "metadata": {},
   "outputs": [
    {
     "name": "stdout",
     "output_type": "stream",
     "text": [
      "itertools: 2.1249998098937795e-06\n",
      "for loop: 12.599390207999932\n",
      "rec: 86.10086962499963\n",
      "loop: 219.56223775000035\n"
     ]
    }
   ],
   "source": [
    "from itertools import combinations\n",
    "import os, sys\n",
    "sys.path.append(os.curdir)\n",
    "from utils.elapsed_time import elapsedTime\n",
    "from lib.recursive_itertools import combinationListRecursive\n",
    "from lib.loop_itertools import combinationWithRepetitionList\n",
    "\n",
    "\n",
    "def main():\n",
    "    et = elapsedTime('itertools', combinations)\n",
    "    et(A, 5)\n",
    "\n",
    "    et = elapsedTime('for loop')\n",
    "    et.start()\n",
    "    for a in range(N):\n",
    "        for b in range(a):\n",
    "            for c in range(b):\n",
    "                for d in range(c):\n",
    "                    for e in range(d):\n",
    "                        # sum = A[a] + A[b] + A[c] + A[d] + A[e]\n",
    "                        prod = A[a] * A[b] * A[c] * A[d] * A[e]\n",
    "    et.end()\n",
    "    \n",
    "    et = elapsedTime('rec', combinationListRecursive)\n",
    "    et(A, 5)\n",
    "\n",
    "    et = elapsedTime('loop', combinationWithRepetitionList)\n",
    "    et(A, 5)\n",
    "\n",
    "if __name__ == \"__main__\":\n",
    "    N, P, Q = map(int, '100 999999893 854291140'.split())\n",
    "    A = list(map(int, '1 254129591 932085766 835655799 139691332 865873540 122642124 146359856 323896914 88344667 493997769 423605127 188628220 528811839 740410099 764273954 124010150 71416414 22452456 70749734 888596208 65782733 820907583 638600063 187493563 578623102 988254851 960892430 359357312 493016344 263071189 817850959 948523926 160232727 734351924 64584502 834371920 459616739 396661931 76279536 359532899 350285815 423977665 128330189 933060306 313768559 99282957 955369660 927895742 636321052 992208407 637672638 26341986 844595472 825941420 713450159 505598281 108995357 459096423 690242779 886964620 230296280 707407715 518932529 462111014 550077439 549031132 950609609 984691911 379051954 344901910 701946340 375379925 17142474 372484004 719098583 340104089 283063453 234962072 646930399 294583534 21031501 319131880 817253314 652859678 703006558 170920094 229538360 787187725 999575980 151163414 684399374 605374191 22041665 910762988 403725858 147724764 872803883 543170772 901342712'.split()))\n",
    "    main()"
   ]
  }
 ],
 "metadata": {
  "interpreter": {
   "hash": "8fddf10c5ffabd9e5cc2b27ebb87298f4338c96052ae3bf525fdc3ed8f6cab27"
  },
  "kernelspec": {
   "display_name": "Python 3.9.10 ('venv': venv)",
   "language": "python",
   "name": "python3"
  },
  "language_info": {
   "codemirror_mode": {
    "name": "ipython",
    "version": 3
   },
   "file_extension": ".py",
   "mimetype": "text/x-python",
   "name": "python",
   "nbconvert_exporter": "python",
   "pygments_lexer": "ipython3",
   "version": "3.8.9"
  },
  "orig_nbformat": 4
 },
 "nbformat": 4,
 "nbformat_minor": 2
}
